{
 "cells": [
  {
   "cell_type": "markdown",
   "metadata": {},
   "source": [
    "# What is the True Normal Human Body Temperature? \n",
    "\n",
    "#### Background\n",
    "\n",
    "The mean normal body temperature was held to be 37$^{\\circ}$C or 98.6$^{\\circ}$F for more than 120 years since it was first conceptualized and reported by Carl Wunderlich in a famous 1868 book. But, is this value statistically correct?"
   ]
  },
  {
   "cell_type": "markdown",
   "metadata": {},
   "source": [
    "<h3>Exercises</h3>\n",
    "\n",
    "<p>In this exercise, you will analyze a dataset of human body temperatures and employ the concepts of hypothesis testing, confidence intervals, and statistical significance.</p>\n",
    "\n",
    "<p>Answer the following questions <b>in this notebook below and submit to your Github account</b>.</p> \n",
    "\n",
    "<ol>\n",
    "<li>  Is the distribution of body temperatures normal? \n",
    "    <ul>\n",
    "    <li> Although this is not a requirement for CLT to hold (read CLT carefully), it gives us some peace of mind that the population may also be normally distributed if we assume that this sample is representative of the population.\n",
    "    </ul>\n",
    "<li>  Is the sample size large? Are the observations independent?\n",
    "    <ul>\n",
    "    <li> Remember that this is a condition for the CLT, and hence the statistical tests we are using, to apply.\n",
    "    </ul>\n",
    "<li>  Is the true population mean really 98.6 degrees F?\n",
    "    <ul>\n",
    "    <li> Would you use a one-sample or two-sample test? Why?\n",
    "    <li> In this situation, is it appropriate to use the $t$ or $z$ statistic? \n",
    "    <li> Now try using the other test. How is the result be different? Why?\n",
    "    </ul>\n",
    "<li>  Draw a small sample of size 10 from the data and repeat both tests. \n",
    "    <ul>\n",
    "    <li> Which one is the correct one to use? \n",
    "    <li> What do you notice? What does this tell you about the difference in application of the $t$ and $z$ statistic?\n",
    "    </ul>\n",
    "<li>  At what temperature should we consider someone's temperature to be \"abnormal\"?\n",
    "    <ul>\n",
    "    <li> Start by computing the margin of error and confidence interval.\n",
    "    </ul>\n",
    "<li>  Is there a significant difference between males and females in normal temperature?\n",
    "    <ul>\n",
    "    <li> What test did you use and why?\n",
    "    <li> Write a story with your conclusion in the context of the original problem.\n",
    "    </ul>\n",
    "</ol>\n",
    "\n",
    "You can include written notes in notebook cells using Markdown: \n",
    "   - In the control panel at the top, choose Cell > Cell Type > Markdown\n",
    "   - Markdown syntax: http://nestacms.com/docs/creating-content/markdown-cheat-sheet\n",
    "\n",
    "#### Resources\n",
    "\n",
    "+ Information and data sources: http://www.amstat.org/publications/jse/datasets/normtemp.txt, http://www.amstat.org/publications/jse/jse_data_archive.htm\n",
    "+ Markdown syntax: http://nestacms.com/docs/creating-content/markdown-cheat-sheet\n",
    "\n",
    "****"
   ]
  },
  {
   "cell_type": "code",
   "execution_count": 1,
   "metadata": {
    "collapsed": true
   },
   "outputs": [],
   "source": [
    "import pandas as pd\n",
    "from scipy import stats\n",
    "import numpy as np\n",
    "import scipy.stats\n",
    "\n",
    "df = pd.read_csv('data/human_body_temperature.csv')"
   ]
  },
  {
   "cell_type": "code",
   "execution_count": 2,
   "metadata": {},
   "outputs": [
    {
     "data": {
      "text/html": [
       "<div>\n",
       "<style>\n",
       "    .dataframe thead tr:only-child th {\n",
       "        text-align: right;\n",
       "    }\n",
       "\n",
       "    .dataframe thead th {\n",
       "        text-align: left;\n",
       "    }\n",
       "\n",
       "    .dataframe tbody tr th {\n",
       "        vertical-align: top;\n",
       "    }\n",
       "</style>\n",
       "<table border=\"1\" class=\"dataframe\">\n",
       "  <thead>\n",
       "    <tr style=\"text-align: right;\">\n",
       "      <th></th>\n",
       "      <th>temperature</th>\n",
       "      <th>gender</th>\n",
       "      <th>heart_rate</th>\n",
       "    </tr>\n",
       "  </thead>\n",
       "  <tbody>\n",
       "    <tr>\n",
       "      <th>125</th>\n",
       "      <td>96.3</td>\n",
       "      <td>M</td>\n",
       "      <td>70.0</td>\n",
       "    </tr>\n",
       "    <tr>\n",
       "      <th>126</th>\n",
       "      <td>97.7</td>\n",
       "      <td>M</td>\n",
       "      <td>77.0</td>\n",
       "    </tr>\n",
       "    <tr>\n",
       "      <th>127</th>\n",
       "      <td>98.2</td>\n",
       "      <td>F</td>\n",
       "      <td>73.0</td>\n",
       "    </tr>\n",
       "    <tr>\n",
       "      <th>128</th>\n",
       "      <td>97.9</td>\n",
       "      <td>M</td>\n",
       "      <td>72.0</td>\n",
       "    </tr>\n",
       "    <tr>\n",
       "      <th>129</th>\n",
       "      <td>98.7</td>\n",
       "      <td>F</td>\n",
       "      <td>59.0</td>\n",
       "    </tr>\n",
       "  </tbody>\n",
       "</table>\n",
       "</div>"
      ],
      "text/plain": [
       "     temperature gender  heart_rate\n",
       "125         96.3      M        70.0\n",
       "126         97.7      M        77.0\n",
       "127         98.2      F        73.0\n",
       "128         97.9      M        72.0\n",
       "129         98.7      F        59.0"
      ]
     },
     "execution_count": 2,
     "metadata": {},
     "output_type": "execute_result"
    }
   ],
   "source": [
    "# Your work here.\n",
    "#Analyzing the data set:\n",
    "df.head(5)\n",
    "df.tail(5)"
   ]
  },
  {
   "cell_type": "code",
   "execution_count": 3,
   "metadata": {},
   "outputs": [
    {
     "name": "stdout",
     "output_type": "stream",
     "text": [
      "<class 'pandas.core.frame.DataFrame'>\n",
      "RangeIndex: 130 entries, 0 to 129\n",
      "Data columns (total 3 columns):\n",
      "temperature    130 non-null float64\n",
      "gender         130 non-null object\n",
      "heart_rate     130 non-null float64\n",
      "dtypes: float64(2), object(1)\n",
      "memory usage: 3.1+ KB\n"
     ]
    }
   ],
   "source": [
    "df.info()"
   ]
  },
  {
   "cell_type": "markdown",
   "metadata": {},
   "source": [
    "## 1."
   ]
  },
  {
   "cell_type": "code",
   "execution_count": 4,
   "metadata": {},
   "outputs": [
    {
     "data": {
      "image/png": "[encoded data removed]",
      "text/plain": [
       "<matplotlib.figure.Figure at 0x1a11381908>"
      ]
     },
     "metadata": {},
     "output_type": "display_data"
    }
   ],
   "source": [
    "import matplotlib.pyplot as plt\n",
    "import numpy as np\n",
    "\n",
    "def ecdf(data):  \n",
    "    # Number of data points: n\n",
    "    n = len(data)\n",
    "    # x-data for the ECDF: x\n",
    "    x = np.sort(data)\n",
    "    # y-data for the ECDF: y\n",
    "    y = np.arange(1, n+1) / n\n",
    "    \n",
    "    return x, y\n",
    "\n",
    "\n",
    "x_temperature,y_temperature = ecdf(df.temperature)\n",
    "\n",
    "_=plt.plot(x_temperature,y_temperature,marker=\"o\",linestyle=\"none\",color=\"red\")\n",
    "\n",
    "_=plt.xlabel(\"Temperature (F)\")\n",
    "_=plt.ylabel(\"ECDF\")\n",
    "_=plt.title(\"ECDF plot for body temperature\")\n",
    "\n",
    "#Creating the normal cdf for comparison\n",
    "samples=np.random.normal(np.mean(df.temperature),np.std(df.temperature),size=100000)\n",
    "x,y = ecdf(samples)\n",
    "_=plt.plot(x,y,marker=\"o\",linestyle=\"none\",color=\"lightblue\")\n",
    "plt.margins(0.02)\n",
    "plt.show()"
   ]
  },
  {
   "cell_type": "markdown",
   "metadata": {},
   "source": [
    "The ecdf and normal cdf comparison suggests that our distribution is nearly normal."
   ]
  },
  {
   "cell_type": "code",
   "execution_count": 5,
   "metadata": {},
   "outputs": [
    {
     "name": "stdout",
     "output_type": "stream",
     "text": [
      "NormaltestResult(statistic=2.7038014333192031, pvalue=0.2587479863488254)\n"
     ]
    }
   ],
   "source": [
    "#Further examination:\n",
    "print(stats.normaltest(df.temperature))"
   ]
  },
  {
   "cell_type": "markdown",
   "metadata": {},
   "source": [
    "We cannot reject the null hypothesis as p > 0.05. Thus, the distribution of temperature is normal."
   ]
  },
  {
   "cell_type": "markdown",
   "metadata": {},
   "source": [
    "## 2."
   ]
  },
  {
   "cell_type": "markdown",
   "metadata": {
    "collapsed": true
   },
   "source": [
    "The sample size is not significant but is greater than 30. Thus, assuming minimal sampling bias at our source,\n",
    "we can conclude that our temperature samples are independent."
   ]
  },
  {
   "cell_type": "markdown",
   "metadata": {},
   "source": [
    "## 3."
   ]
  },
  {
   "cell_type": "markdown",
   "metadata": {},
   "source": [
    "This is a one sample test since the second distribution is unknown.Since we have over 30 observations, we could use \n",
    "the z-test as the preferred method. Although, the standard deviation of the study is unknown, we can use the\n",
    "sample standard deviation as optimal parameter"
   ]
  },
  {
   "cell_type": "markdown",
   "metadata": {},
   "source": [
    "Z-statistic and p-value for one mean/sample z-test:\n",
    "\n",
    "H_o : mu = 98.6\n",
    "H_a : mu < 98.6 (considering one tail test)"
   ]
  },
  {
   "cell_type": "code",
   "execution_count": 6,
   "metadata": {},
   "outputs": [],
   "source": [
    "# Given:\n",
    "sample_mean1 = df.temperature.mean()\n",
    "sample_std1 = df.temperature.std()\n",
    "expected_mean1 = 98.6\n",
    "n1 = len(df.temperature)\n",
    "\n",
    "# Calculated:\n",
    "se1 = sample_std1 / np.sqrt(n1)\n",
    "zscore1 = (sample_mean1 - expected_mean1) / se1\n",
    "p1=scipy.stats.norm.cdf(zscore1) \n",
    "\n"
   ]
  },
  {
   "cell_type": "code",
   "execution_count": 7,
   "metadata": {},
   "outputs": [
    {
     "name": "stdout",
     "output_type": "stream",
     "text": [
      "z-score: -5.454823292364079\n",
      "p-value corresponding to z-test: 2.45107850705669e-08\n"
     ]
    }
   ],
   "source": [
    "print(\"z-score: {}\".format(zscore1))\n",
    "print(\"p-value corresponding to z-test: {}\".format(p1))"
   ]
  },
  {
   "cell_type": "markdown",
   "metadata": {},
   "source": [
    "Z-test suggests that we reject the null at 95% confidence. The mean body temperature is less than 98.6 F"
   ]
  },
  {
   "cell_type": "code",
   "execution_count": 8,
   "metadata": {},
   "outputs": [
    {
     "name": "stdout",
     "output_type": "stream",
     "text": [
      "Ttest_1sampResult(statistic=-5.4548232923645195, pvalue=2.4106320415561276e-07)\n"
     ]
    }
   ],
   "source": [
    "# T-statistic and p-value:\n",
    "one_sample = scipy.stats.ttest_1samp(a = df.temperature.values.reshape(1,-1), popmean = 98.6, axis=None)\n",
    "print(one_sample)"
   ]
  },
  {
   "cell_type": "markdown",
   "metadata": {},
   "source": [
    "T-test suggests that we reject the null at 95% confidence. The mean body temperature is less than to 98.6 "
   ]
  },
  {
   "cell_type": "markdown",
   "metadata": {},
   "source": [
    "Inference:\n",
    "     At high degrees of freedom (> 30), the t-distribution is identical to normal distribution. Thus, the \n",
    "     corresponding test statistics are similar."
   ]
  },
  {
   "cell_type": "markdown",
   "metadata": {},
   "source": [
    "## 4."
   ]
  },
  {
   "cell_type": "code",
   "execution_count": 9,
   "metadata": {},
   "outputs": [
    {
     "name": "stdout",
     "output_type": "stream",
     "text": [
      "z-score: -1.5606191828511506\n",
      "p-value corresponding to z-test: 0.059306814951265774\n"
     ]
    }
   ],
   "source": [
    "from scipy import stats\n",
    "import numpy as np\n",
    "import scipy.stats\n",
    "\n",
    "# Drawing a small sample size =10.\n",
    "df_sample = df.sample(n=10,random_state=42)\n",
    "\n",
    "# Z-statistic and p-value:\n",
    "sample_mean2 = df_sample.temperature.mean()\n",
    "sample_std2 = df_sample.temperature.std()\n",
    "expected_mean2 = 98.6\n",
    "n2 = len(df_sample.temperature)\n",
    "se2 = sample_std2 / np.sqrt(n2)\n",
    "zscore2 = (sample_mean2 - expected_mean2) / se2\n",
    "p2=scipy.stats.norm.cdf(zscore2)\n",
    "print(\"z-score: {}\".format(zscore2))\n",
    "print(\"p-value corresponding to z-test: {}\".format(p2))\n"
   ]
  },
  {
   "cell_type": "markdown",
   "metadata": {},
   "source": [
    "Z-test suggests that we do not reject the null at 95% confidence but we may reject it at 90% confidence.\n",
    "The mean body temperature is 98.6.\n",
    "\n"
   ]
  },
  {
   "cell_type": "code",
   "execution_count": 10,
   "metadata": {},
   "outputs": [
    {
     "name": "stdout",
     "output_type": "stream",
     "text": [
      "Ttest_1sampResult(statistic=-1.5606191828511504, pvalue=0.15304624869561917)\n"
     ]
    }
   ],
   "source": [
    "# T-statistic and p-value:\n",
    "one_sample2 = scipy.stats.ttest_1samp(a = df_sample.temperature.values.reshape(1,-1), popmean = 98.6, axis=None)\n",
    "print(one_sample2)"
   ]
  },
  {
   "cell_type": "markdown",
   "metadata": {},
   "source": [
    "T-test suggests that we do not reject the null at 95% or 90% confidence . The mean body temperature is 98.6."
   ]
  },
  {
   "cell_type": "markdown",
   "metadata": {},
   "source": [
    "From smaller sample sizes the t-test is more robust. This is because the thick tail of t-distribution reduces the\n",
    "error in Standard Error calculations for a small sample size."
   ]
  },
  {
   "cell_type": "markdown",
   "metadata": {},
   "source": [
    "## 5."
   ]
  },
  {
   "cell_type": "code",
   "execution_count": 11,
   "metadata": {},
   "outputs": [
    {
     "name": "stdout",
     "output_type": "stream",
     "text": [
      "Boot strap replication CI : [ 98.12536538  98.37461538]\n"
     ]
    },
    {
     "data": {
      "image/png": "[encoded data removed]",
      "text/plain": [
       "<matplotlib.figure.Figure at 0x1a11381828>"
      ]
     },
     "metadata": {},
     "output_type": "display_data"
    }
   ],
   "source": [
    "# Bootstrap Approach for CI:\n",
    "def bootstrap_replicate_1d(data, func):\n",
    "    \n",
    "    return func(np.random.choice(data, size=len(data)))\n",
    "\n",
    "def draw_bs_reps(data, func, size=1):\n",
    "    bs_replicates = np.empty(size)\n",
    "    for i in range(size):\n",
    "        bs_replicates[i] = bootstrap_replicate_1d(data,func)\n",
    "    \n",
    "    return bs_replicates\n",
    "\n",
    "\n",
    "bs_replicates = draw_bs_reps(df.temperature,np.mean,10000)\n",
    "conf_int = np.percentile(bs_replicates,[2.5,97.5])\n",
    "\n",
    "print(\"Boot strap replication CI :\",conf_int)\n",
    "\n",
    "_ = plt.hist(bs_replicates, bins=50, normed=True)\n",
    "_ = plt.xlabel(\"Temperature (F)\")\n",
    "_ = plt.ylabel('PDF')\n",
    "\n",
    "# Show the plot\n",
    "plt.show()"
   ]
  },
  {
   "cell_type": "markdown",
   "metadata": {},
   "source": [
    "Abnormal or extreme points would be those lying outside the 95% confidence interval. Thus, abnormality would\n",
    "in part be defined, based upon our underlying significance level for the test.\n",
    "\n",
    "All temperatures outside the interval [98.1254, 98.3746] would be considered abnormal."
   ]
  },
  {
   "cell_type": "markdown",
   "metadata": {},
   "source": [
    "## 6."
   ]
  },
  {
   "cell_type": "code",
   "execution_count": 13,
   "metadata": {},
   "outputs": [
    {
     "name": "stdout",
     "output_type": "stream",
     "text": [
      "Observed mean body temperature for men: 98.1046153846154\n",
      "Observed mean body temperature for women: 98.39384615384613\n"
     ]
    }
   ],
   "source": [
    "data_males = df.loc[df['gender'] == 'M']\n",
    "data_females = df.loc[df['gender'] == 'F']\n",
    "mean_temp_males = np.mean(data_males.temperature)\n",
    "mean_temp_females = np.mean(data_females.temperature)\n",
    "print(\"Observed mean body temperature for men: {}\".format(mean_temp_males))\n",
    "print(\"Observed mean body temperature for women: {}\".format(mean_temp_females))\n",
    "bt_males = data_males['temperature'].values\n",
    "bt_females = data_females['temperature'].values"
   ]
  },
  {
   "cell_type": "markdown",
   "metadata": {},
   "source": [
    "H_o : Mean body temperatures of men and women are the same.\n",
    "H_a : Mean body temperatures of men and women are different.\n",
    "\n",
    "We use a two sample bootstrap test as well as a 2 sample t-test for our calculations\n",
    "\n"
   ]
  },
  {
   "cell_type": "code",
   "execution_count": 14,
   "metadata": {
    "collapsed": true
   },
   "outputs": [],
   "source": [
    "#List of functions for this excercise:\n",
    "\n",
    "def draw_bs_reps(data, func, size=1):\n",
    "    bs_replicates = np.empty(size)\n",
    "\n",
    "    for i in range(size):\n",
    "        bs_replicates[i] = bootstrap_replicate_1d(data,func)\n",
    "\n",
    "    return bs_replicates\n",
    "\n",
    "\n",
    "def draw_perm_reps(data_1, data_2, func, size=1):\n",
    "    perm_replicates = np.empty(size)\n",
    "\n",
    "    for i in range(size):\n",
    "        perm_sample_1, perm_sample_2 = permutation_sample(data_1,data_2)\n",
    "        perm_replicates[i] = func(perm_sample_1,perm_sample_2)\n",
    "\n",
    "    return perm_replicates\n",
    "\n",
    "\n",
    "def diff_of_means(data_1, data_2):\n",
    "    diff = np.mean(data_1)-np.mean(data_2)\n",
    "    \n",
    "    return diff"
   ]
  },
  {
   "cell_type": "code",
   "execution_count": 15,
   "metadata": {
    "collapsed": true
   },
   "outputs": [],
   "source": [
    "# 2 sample Bootstrap Testing:\n",
    "\n",
    "#Calculations:\n",
    "empirical_diff_means = diff_of_means(bt_males,bt_females)\n",
    "bt_concat = np.concatenate((bt_males,bt_females))\n",
    "mean_bt_all = np.mean(bt_concat)\n",
    "\n",
    "bt_males_shifted = bt_males - np.mean(bt_males) + mean_bt_all\n",
    "bt_females_shifted = bt_females - np.mean(bt_females) + mean_bt_all"
   ]
  },
  {
   "cell_type": "code",
   "execution_count": 16,
   "metadata": {},
   "outputs": [
    {
     "name": "stdout",
     "output_type": "stream",
     "text": [
      "p-value = 0.0144\n"
     ]
    }
   ],
   "source": [
    "# Result of booststrap testing:\n",
    "bs_replicates_males = draw_bs_reps(bt_males_shifted, np.mean, 10000)\n",
    "bs_replicates_females = draw_bs_reps(bt_females_shifted, np.mean, 10000)\n",
    "\n",
    "bs_replicates = bs_replicates_males - bs_replicates_females\n",
    "\n",
    "p = np.sum(bs_replicates < empirical_diff_means) / len(bs_replicates)\n",
    "print('p-value =', p)"
   ]
  },
  {
   "cell_type": "markdown",
   "metadata": {},
   "source": [
    "Thus, we can reject the null. The mean difference in body temperature is for men and women is greater than 0."
   ]
  },
  {
   "cell_type": "code",
   "execution_count": 17,
   "metadata": {},
   "outputs": [
    {
     "name": "stdout",
     "output_type": "stream",
     "text": [
      "p-value corresponding to 2-sample t-test: 0.011965941561197804\n"
     ]
    }
   ],
   "source": [
    "# Confirm with 2-sample t-test:\n",
    "tstat, pvalue = scipy.stats.ttest_ind(bt_males, bt_females, equal_var=True, nan_policy='propagate')\n",
    "print(\"p-value corresponding to 2-sample t-test: {}\".format(pvalue/2)) #one-tail"
   ]
  }
 ],
 "metadata": {
  "kernelspec": {
   "display_name": "Python 3",
   "language": "python",
   "name": "python3"
  },
  "language_info": {
   "codemirror_mode": {
    "name": "ipython",
    "version": 3
   },
   "file_extension": ".py",
   "mimetype": "text/x-python",
   "name": "python",
   "nbconvert_exporter": "python",
   "pygments_lexer": "ipython3",
   "version": "3.6.2"
  }
 },
 "nbformat": 4,
 "nbformat_minor": 1
}
